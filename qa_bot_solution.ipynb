{
  "cells": [
    {
      "cell_type": "markdown",
      "metadata": {
        "id": "Zs9CpTbW6XYZ"
      },
      "source": [
        "# QA Bot for PDF Files"
      ]
    },
    {
      "cell_type": "code",
      "execution_count": 1,
      "metadata": {
        "id": "veMBV9-N6XYa"
      },
      "outputs": [],
      "source": [
        "!pip install -qU openai\n",
        "!pip install -qU langchain\n",
        "!pip install -qU langchain-pinecone\n",
        "!pip install -qU pypdf\n",
        "!pip install -qU langchain-google-genai\n",
        "!pip install -qU langchain-openai"
      ]
    },
    {
      "cell_type": "code",
      "execution_count": 2,
      "metadata": {
        "id": "BCaqfrLU6XYb"
      },
      "outputs": [],
      "source": [
        "# Import necessary libraries\n",
        "import time\n",
        "import langchain\n",
        "import os\n",
        "from langchain import OpenAI\n",
        "from langchain_pinecone import Pinecone\n",
        "from langchain.text_splitter import RecursiveCharacterTextSplitter\n",
        "from langchain.memory import ConversationBufferWindowMemory\n",
        "from langchain.chains import RetrievalQAWithSourcesChain\n",
        "from google.colab import userdata\n",
        "from langchain_community.document_loaders import PyPDFLoader\n",
        "from langchain_openai import OpenAIEmbeddings"
      ]
    },
    {
      "cell_type": "code",
      "source": [
        "pinecone_api_key = userdata.get(\"PINECONE_API_KEY\")\n",
        "gemini_api_key =  userdata.get(\"GOOGLE_API_KEY\")\n",
        "inference_api_key =  userdata.get(\"HF_API_KEY\")\n",
        "openai_api_key =  userdata.get(\"OPENAI_API_KEY\")\n",
        "index_name = \"nagp\"\n",
        "os.environ[\"GOOGLE_API_KEY\"] = gemini_api_key\n",
        "os.environ[\"PINECONE_API_KEY\"] = pinecone_api_key\n",
        "os.environ['OPENAI_API_KEY'] = openai_api_key"
      ],
      "metadata": {
        "id": "vWNtMxJN95mB"
      },
      "execution_count": 3,
      "outputs": []
    },
    {
      "cell_type": "code",
      "source": [
        "llm = OpenAI(temperature=0.9, max_tokens=500)"
      ],
      "metadata": {
        "colab": {
          "base_uri": "https://localhost:8080/"
        },
        "id": "po5eknTRG_wp",
        "outputId": "10ee9fd4-6ff9-4863-c4ea-dd6a23c7f615"
      },
      "execution_count": 4,
      "outputs": [
        {
          "output_type": "stream",
          "name": "stderr",
          "text": [
            "/usr/local/lib/python3.10/dist-packages/langchain_core/_api/deprecation.py:139: LangChainDeprecationWarning: The class `OpenAI` was deprecated in LangChain 0.0.10 and will be removed in 0.3.0. An updated version of the class exists in the langchain-openai package and should be used instead. To use it run `pip install -U langchain-openai` and import as `from langchain_openai import OpenAI`.\n",
            "  warn_deprecated(\n"
          ]
        }
      ]
    },
    {
      "cell_type": "code",
      "execution_count": 5,
      "metadata": {
        "id": "nU8Zxc1p6XYc"
      },
      "outputs": [],
      "source": [
        "#Initialize open ai embeddings\n",
        "embeddings = OpenAIEmbeddings()"
      ]
    },
    {
      "cell_type": "code",
      "execution_count": 6,
      "metadata": {
        "id": "T-J0pTvh6XYc"
      },
      "outputs": [],
      "source": [
        "# Initialize Conversation Buffer Window Memory\n",
        "memory = ConversationBufferWindowMemory(window_size=5)"
      ]
    },
    {
      "cell_type": "code",
      "execution_count": 7,
      "metadata": {
        "id": "LqU9Fato6XYc"
      },
      "outputs": [],
      "source": [
        "# Function to extract text from PDF\n",
        "def extract_pages_from_pdf(file_path):\n",
        "    loader = PyPDFLoader(file_path)\n",
        "    pages = loader.load_and_split()\n",
        "    return pages"
      ]
    },
    {
      "cell_type": "code",
      "execution_count": 8,
      "metadata": {
        "id": "qXHvdEeS6XYc"
      },
      "outputs": [],
      "source": [
        "# Function to chunk text using RecursiveCharacterTextSplitter\n",
        "def chunk_text(text):\n",
        "    text_splitter = RecursiveCharacterTextSplitter(chunk_size=1000, chunk_overlap=200)\n",
        "    chunks = text_splitter.split_documents(text)\n",
        "    return chunks"
      ]
    },
    {
      "cell_type": "code",
      "execution_count": 9,
      "metadata": {
        "id": "NkX1OknE6XYd"
      },
      "outputs": [],
      "source": [
        "# Main workflow\n",
        "# Extract text from a sample PDF\n",
        "pdf_text = extract_pages_from_pdf('AssignmentSupportDocument.pdf')\n",
        "\n",
        "# Chunk the extracted text\n",
        "text_chunks = chunk_text(pdf_text)"
      ]
    },
    {
      "cell_type": "code",
      "source": [
        "docsearch = Pinecone.from_documents(text_chunks, embeddings, index_name=index_name)\n",
        "chain = RetrievalQAWithSourcesChain.from_llm(llm=llm, retriever=docsearch.as_retriever(), memory=memory)\n",
        "chain.memory.output_key = \"answer\"\n",
        "#langchain.debug=True"
      ],
      "metadata": {
        "id": "CkMoXxNfVR7g"
      },
      "execution_count": 10,
      "outputs": []
    },
    {
      "cell_type": "code",
      "source": [
        "query = \"Direct taxes?\"\n",
        "docs = docsearch.similarity_search(query)\n",
        "print(docs[0])"
      ],
      "metadata": {
        "colab": {
          "base_uri": "https://localhost:8080/"
        },
        "id": "7T9YeOyqXthU",
        "outputId": "99a3880b-590f-405a-d9e5-3bc8f073d452"
      },
      "execution_count": 11,
      "outputs": [
        {
          "output_type": "stream",
          "name": "stdout",
          "text": [
            "page_content='25 \n",
            " Part B  \n",
            "Hon’ble Speaker Sir,  \n",
            "Direct taxes  \n",
            "87. Over the last ten years, the direct tax collections have \n",
            "more than trebled and the return filers swelled to 2.4 times.  \n",
            "I would like to assure the taxpayers that their contributions have \n",
            "been used wisely for the development of the country and \n",
            "welfare of its people. I appreciate the tax payers for their \n",
            "support.  \n",
            "88. The Government has reduced and rationalized tax rates. \n",
            "Under the new tax scheme, there  is now no tax liability for tax \n",
            "payers with income up to ₹ 7 lakh, up from ₹ 2.2 lakh in the \n",
            "financial year 2013 -14. The threshold for presumptive taxation \n",
            "for retail businesses was increased from ₹ 2 crore to ₹ 3 crore. \n",
            "Similarly, the threshold for professionals eligible for presumptive \n",
            "taxation was increased from ₹ 50 lakh to  ₹ 75 Lakh.  Also, \n",
            "corporate tax rate was decreased from 30 per cent to 22 per cent \n",
            "for existing domestic companies and to 15 per cent for certain \n",
            "new manufacturing companies.' metadata={'page': 28.0, 'source': 'AssignmentSupportDocument.pdf'}\n"
          ]
        }
      ]
    },
    {
      "cell_type": "code",
      "source": [
        "query = \"Direct taxes\"\n",
        "chain.invoke({\"question\": query}, return_only_outputs=True)\n",
        "# chain.invoke({\"question\": query, \"metadata\":\"{source:'AssignmentSupportDocument.pdf'}\"}, return_only_outputs=True)"
      ],
      "metadata": {
        "colab": {
          "base_uri": "https://localhost:8080/"
        },
        "id": "nNOJZAhgNC0N",
        "outputId": "c39d12af-b719-4cf6-fe66-7445b741234c"
      },
      "execution_count": 12,
      "outputs": [
        {
          "output_type": "execute_result",
          "data": {
            "text/plain": [
              "{'answer': ' The government has reduced and rationalized tax rates, specifically decreasing the corporate tax rate from 30 percent to 22 percent.',\n",
              " 'sources': ''}"
            ]
          },
          "metadata": {},
          "execution_count": 12
        }
      ]
    },
    {
      "cell_type": "code",
      "source": [
        "query = \"Green Energy\"\n",
        "chain.invoke(query, return_only_outputs=True)"
      ],
      "metadata": {
        "colab": {
          "base_uri": "https://localhost:8080/"
        },
        "id": "6HJ7wlJz8qY2",
        "outputId": "d5c2df02-38b1-470a-aa18-40fb908e07b2"
      },
      "execution_count": 13,
      "outputs": [
        {
          "output_type": "execute_result",
          "data": {
            "text/plain": [
              "{'answer': ' The potential for offshore wind energy is being considered and the government plans to support the expansion and infrastructure for green energy vehicles. \\n',\n",
              " 'sources': 'AssignmentSupportDocument.pdf'}"
            ]
          },
          "metadata": {},
          "execution_count": 13
        }
      ]
    },
    {
      "cell_type": "code",
      "source": [
        "query = \"Coal gasification\"\n",
        "chain.invoke(query, return_only_outputs=True)"
      ],
      "metadata": {
        "colab": {
          "base_uri": "https://localhost:8080/"
        },
        "id": "TCvyygO68vV2",
        "outputId": "98adf56d-a137-4d89-9a05-d40ea04ae9b3"
      },
      "execution_count": 14,
      "outputs": [
        {
          "output_type": "execute_result",
          "data": {
            "text/plain": [
              "{'answer': ' India plans to set up 100 MT of coal gasification and liquefaction capacity by 2030, aiming to lower imports of natural gas, methanol, and ammonia. \\n',\n",
              " 'sources': 'AssignmentSupportDocument.pdf'}"
            ]
          },
          "metadata": {},
          "execution_count": 14
        }
      ]
    },
    {
      "cell_type": "code",
      "source": [
        "query = \"how much corporate tax has decreased\"\n",
        "chain.invoke(query, return_only_outputs=True)"
      ],
      "metadata": {
        "colab": {
          "base_uri": "https://localhost:8080/"
        },
        "id": "AtVy6J4lWPMQ",
        "outputId": "8bd0c4b4-bc99-41da-f419-3a4e2c4a4372"
      },
      "execution_count": 15,
      "outputs": [
        {
          "output_type": "execute_result",
          "data": {
            "text/plain": [
              "{'answer': ' The corporate tax rate was decreased from 30% to 22% for existing domestic companies and to 15% for certain new manufacturing companies.\\n',\n",
              " 'sources': 'AssignmentSupportDocument.pdf'}"
            ]
          },
          "metadata": {},
          "execution_count": 15
        }
      ]
    },
    {
      "cell_type": "code",
      "source": [
        "query = \"Direct taxes collections have increased over the last how many years\"\n",
        "chain.invoke(query, return_only_outputs=True)"
      ],
      "metadata": {
        "colab": {
          "base_uri": "https://localhost:8080/"
        },
        "id": "5RFhhvSeWp_h",
        "outputId": "e7d459e9-6889-4400-8179-e4204fedfcb8"
      },
      "execution_count": 16,
      "outputs": [
        {
          "output_type": "execute_result",
          "data": {
            "text/plain": [
              "{'answer': ' Direct taxes collections have increased over the last 6 years.\\n',\n",
              " 'sources': 'AssignmentSupportDocument.pdf'}"
            ]
          },
          "metadata": {},
          "execution_count": 16
        }
      ]
    },
    {
      "cell_type": "code",
      "source": [
        "query = \"The corporate tax rate has decreased from\"\n",
        "chain.invoke(query, return_only_outputs=True)"
      ],
      "metadata": {
        "colab": {
          "base_uri": "https://localhost:8080/"
        },
        "id": "QjHhlOUHYA1E",
        "outputId": "14d03344-7664-4d3d-ab01-d8576d7d9d0e"
      },
      "execution_count": 17,
      "outputs": [
        {
          "output_type": "execute_result",
          "data": {
            "text/plain": [
              "{'answer': ' The corporate tax rate has decreased from 30% to 22% for existing domestic companies and to 15% for certain new manufacturing companies.\\n',\n",
              " 'sources': 'AssignmentSupportDocument.pdf'}"
            ]
          },
          "metadata": {},
          "execution_count": 17
        }
      ]
    },
    {
      "cell_type": "code",
      "source": [
        "query = \"how much coal gasification and liquefaction capacity will we reach\"\n",
        "chain.invoke(query, return_only_outputs=True)"
      ],
      "metadata": {
        "colab": {
          "base_uri": "https://localhost:8080/"
        },
        "id": "J1UY4WwRYgEh",
        "outputId": "48784c75-d1fd-43e4-bc96-d4debb87aa49"
      },
      "execution_count": 18,
      "outputs": [
        {
          "output_type": "execute_result",
          "data": {
            "text/plain": [
              "{'answer': ' It is mentioned that a coal gasification and liquefaction capacity of 100 MT will be set up by 2030. However, it is not specified how much capacity will be reached in total. \\n',\n",
              " 'sources': 'AssignmentSupportDocument.pdf'}"
            ]
          },
          "metadata": {},
          "execution_count": 18
        }
      ]
    }
  ],
  "metadata": {
    "kernelspec": {
      "display_name": "Python 3 (ipykernel)",
      "language": "python",
      "name": "python3"
    },
    "language_info": {
      "codemirror_mode": {
        "name": "ipython",
        "version": 3
      },
      "file_extension": ".py",
      "mimetype": "text/x-python",
      "name": "python",
      "nbconvert_exporter": "python",
      "pygments_lexer": "ipython3",
      "version": "3.11.0"
    },
    "colab": {
      "provenance": [],
      "toc_visible": true
    }
  },
  "nbformat": 4,
  "nbformat_minor": 0
}