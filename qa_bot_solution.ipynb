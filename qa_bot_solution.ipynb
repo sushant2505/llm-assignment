{
 "cells": [
  {
   "cell_type": "markdown",
   "metadata": {},
   "source": [
    "# QA Bot for PDF Files"
   ]
  },
  {
   "cell_type": "code",
   "execution_count": null,
   "metadata": {},
   "outputs": [],
   "source": [
    "!pip install PyPDF2\n",
    "!pip install requests\n",
    "!pip install pinecone-client\n",
    "!pip install langchain"
   ]
  },
  {
   "cell_type": "code",
   "execution_count": 1,
   "metadata": {},
   "outputs": [],
   "source": [
    "# Import necessary libraries\n",
    "import PyPDF2\n",
    "import pinecone\n",
    "from langchain.embeddings import GeminiEmbeddings\n",
    "from langchain.chains import LLMChain\n",
    "from langchain.prompts import ChatPromptTemplate\n",
    "from langchain.text_splitter import RecursiveCharacterTextSplitter\n",
    "from langchain.memory import ConversationBufferWindowMemory"
   ]
  },
  {
   "cell_type": "code",
   "execution_count": 2,
   "metadata": {},
   "outputs": [],
   "source": [
    "# Initialize Pinecone\n",
    "pinecone.init(api_key='your-pinecone-api-key')\n",
    "\n",
    "# Create a new Pinecone index\n",
    "index_name = 'pdf-embeddings'\n",
    "pinecone.create_index(index_name, dimension=768)\n",
    "index = pinecone.Index(index_name)"
   ]
  },
  {
   "cell_type": "code",
   "execution_count": 3,
   "metadata": {},
   "outputs": [],
   "source": [
    "# Initialize Conversation Buffer Window Memory\n",
    "memory = ConversationBufferWindowMemory(window_size=5)"
   ]
  },
  {
   "cell_type": "code",
   "execution_count": 4,
   "metadata": {},
   "outputs": [],
   "source": [
    "# Function to extract text from PDF\n",
    "def extract_text_from_pdf(file_path):\n",
    "    pdf = PyPDF2.PdfFileReader(file_path)\n",
    "    text = \"\"\n",
    "    for page_num in range(pdf.getNumPages()):\n",
    "        text += pdf.getPage(page_num).extract_text()\n",
    "    return text"
   ]
  },
  {
   "cell_type": "code",
   "execution_count": 5,
   "metadata": {},
   "outputs": [],
   "source": [
    "# Function to chunk text using RecursiveCharacterTextSplitter\n",
    "def chunk_text(text, chunk_size=500):\n",
    "    text_splitter = RecursiveCharacterTextSplitter(chunk_size=chunk_size)\n",
    "    chunks = text_splitter.split_text(text)\n",
    "    return chunks"
   ]
  },
  {
   "cell_type": "code",
   "execution_count": 6,
   "metadata": {},
   "outputs": [],
   "source": [
    "# Initialize Gemini embeddings\n",
    "gemini_api_key = 'your-gemini-api-key'\n",
    "gemini_embeddings = GeminiEmbeddings(api_key=gemini_api_key)"
   ]
  },
  {
   "cell_type": "code",
   "execution_count": 7,
   "metadata": {},
   "outputs": [],
   "source": [
    "# Function to generate embeddings using Gemini API for text chunks\n",
    "def generate_embeddings(text_chunks, embeddings_model):\n",
    "    embeddings = [embeddings_model.embed(chunk) for chunk in text_chunks]\n",
    "    return embeddings"
   ]
  },
  {
   "cell_type": "code",
   "execution_count": 8,
   "metadata": {},
   "outputs": [],
   "source": [
    "# Function to store embeddings in Pinecone\n",
    "def store_embeddings_in_pinecone(embeddings, text_chunks):\n",
    "    for i, (embedding, chunk) in enumerate(zip(embeddings, text_chunks)):\n",
    "        index.upsert([(str(i), embedding, {'text': chunk})])"
   ]
  },
  {
   "cell_type": "code",
   "execution_count": 9,
   "metadata": {},
   "outputs": [],
   "source": [
    "# Function to query Pinecone\n",
    "def query_pinecone(query_embedding, top_k=5):\n",
    "    return index.query(query_embedding, top_k=top_k, include_metadata=True)"
   ]
  },
  {
   "cell_type": "code",
   "execution_count": 10,
   "metadata": {},
   "outputs": [],
   "source": [
    "# Function to refine user query using Gemini API and maintain context\n",
    "def refine_query(user_query, memory, api_key):\n",
    "    # Append user query to memory\n",
    "    memory.add_message({'role': 'user', 'content': user_query})\n",
    "    conversation_context = \" \".join([message['content'] for message in memory.buffer])\n",
    "    \n",
    "    chat_template = ChatPromptTemplate.from_template(\"{conversation}\")\n",
    "    llm_chain = LLMChain(prompt=chat_template, api_key=api_key)\n",
    "    refined_query = llm_chain.run(conversation=conversation_context)\n",
    "    return refined_query"
   ]
  },
  {
   "cell_type": "code",
   "execution_count": 11,
   "metadata": {},
   "outputs": [],
   "source": [
    "# Function to process results with Gemini API\n",
    "def process_results_with_gemini(results, api_key):\n",
    "    result_texts = [result['metadata']['text'] for result in results['matches']]\n",
    "    combined_text = \" \".join(result_texts)\n",
    "    chat_template = ChatPromptTemplate.from_template(\"{text}\")\n",
    "    llm_chain = LLMChain(prompt=chat_template, api_key=api_key)\n",
    "    processed_text = llm_chain.run(text=combined_text)\n",
    "    return processed_text"
   ]
  },
  {
   "cell_type": "code",
   "execution_count": 12,
   "metadata": {},
   "outputs": [],
   "source": [
    "# Function to handle a user query\n",
    "def handle_user_query(user_query, api_key):\n",
    "    refined_query = refine_query(user_query, memory, api_key)\n",
    "    query_embedding = gemini_embeddings.embed(refined_query)\n",
    "    results = query_pinecone(query_embedding)\n",
    "    processed_results = process_results_with_gemini(results, api_key)\n",
    "    return processed_results"
   ]
  },
  {
   "cell_type": "code",
   "execution_count": 13,
   "metadata": {},
   "outputs": [],
   "source": [
    "# Main workflow\n",
    "# Extract text from a sample PDF\n",
    "pdf_text = extract_text_from_pdf('sample.pdf')\n",
    "\n",
    "# Chunk the extracted text\n",
    "text_chunks = chunk_text(pdf_text)\n",
    "\n",
    "# Generate embeddings for the text chunks\n",
    "embeddings = generate_embeddings(text_chunks, gemini_embeddings)\n",
    "\n",
    "# Store embeddings in Pinecone\n",
    "store_embeddings_in_pinecone(embeddings, text_chunks)\n",
    "\n",
    "# Example user query\n",
    "user_query = \"What is the main topic of the document?\"\n",
    "\n",
    "# Handle the user query and retrieve results\n",
    "results = handle_user_query(user_query, gemini_api_key)\n",
    "print(results)"
   ]
  }
 ],
 "metadata": {
  "kernelspec": {
   "display_name": "Python 3 (ipykernel)",
   "language": "python",
   "name": "python3"
  },
  "language_info": {
   "codemirror_mode": {
    "name": "ipython",
    "version": 3
   },
   "file_extension": ".py",
   "mimetype": "text/x-python",
   "name": "python",
   "nbconvert_exporter": "python",
   "pygments_lexer": "ipython3",
   "version": "3.11.0"
  }
 },
 "nbformat": 4,
 "nbformat_minor": 4
}
